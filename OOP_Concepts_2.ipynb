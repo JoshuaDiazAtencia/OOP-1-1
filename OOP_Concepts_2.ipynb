{
  "nbformat": 4,
  "nbformat_minor": 0,
  "metadata": {
    "colab": {
      "name": "OOP Concepts 2.ipynb",
      "provenance": [],
      "collapsed_sections": [],
      "authorship_tag": "ABX9TyOgtZhRirWgbIR5UTYo2OXS",
      "include_colab_link": true
    },
    "kernelspec": {
      "name": "python3",
      "display_name": "Python 3"
    },
    "language_info": {
      "name": "python"
    }
  },
  "cells": [
    {
      "cell_type": "markdown",
      "metadata": {
        "id": "view-in-github",
        "colab_type": "text"
      },
      "source": [
        "<a href=\"https://colab.research.google.com/github/JoshuaDiazAtencia/OOP-1-1/blob/main/OOP_Concepts_2.ipynb\" target=\"_parent\"><img src=\"https://colab.research.google.com/assets/colab-badge.svg\" alt=\"Open In Colab\"/></a>"
      ]
    },
    {
      "cell_type": "markdown",
      "source": [
        "Classes with multiple  objects"
      ],
      "metadata": {
        "id": "zD_-wLsgJ3g5"
      }
    },
    {
      "cell_type": "code",
      "execution_count": null,
      "metadata": {
        "colab": {
          "base_uri": "https://localhost:8080/"
        },
        "id": "T_LqezZ_IXJ0",
        "outputId": "ecfa1a20-a9f2-4eb5-e131-369423c2fbe2"
      },
      "outputs": [
        {
          "output_type": "stream",
          "name": "stdout",
          "text": [
            "Griffon Vulture flies above the sky\n",
            "Common Crane flies above the sky\n",
            "Emu is the national bird of australia\n"
          ]
        }
      ],
      "source": [
        "class Birds:\n",
        "  def __init__(self, birds_name):\n",
        "    self.birds_name = birds_name\n",
        "  def flying_birds(self):\n",
        "    print(f\"{self.birds_name} flies above the sky\")\n",
        "  def non_flying_birds(self):\n",
        "    print(f\"{self.birds_name} is the national bird of australia\")\n",
        "\n",
        "vulture = Birds(\"Griffon Vulture\")\n",
        "crane = Birds(\"Common Crane\")\n",
        "emu = Birds(\"Emu\")\n",
        "\n",
        "vulture.flying_birds()\n",
        "crane.flying_birds()\n",
        "emu.non_flying_birds()"
      ]
    },
    {
      "cell_type": "markdown",
      "source": [
        "Encapsulation (mangling with double underscore)"
      ],
      "metadata": {
        "id": "1IKHwcahPTFk"
      }
    },
    {
      "cell_type": "code",
      "source": [
        "class foo:\n",
        "  def __init__(self,a,b):\n",
        "    self.__a= a\n",
        "    self.__b= b\n",
        "\n",
        "  def add(self):\n",
        "    return self.__a+self.__b\n",
        "\n",
        "object_foo = foo(3,4)\n",
        "object_foo.add()\n",
        "\n",
        "object_foo.__a=6\n",
        "object_foo.__b=7\n",
        "object_foo.add()"
      ],
      "metadata": {
        "colab": {
          "base_uri": "https://localhost:8080/"
        },
        "id": "feoTvB7APUih",
        "outputId": "7e1aa434-66a0-46c7-eb22-c2d7501cd55d"
      },
      "execution_count": null,
      "outputs": [
        {
          "output_type": "execute_result",
          "data": {
            "text/plain": [
              "7"
            ]
          },
          "metadata": {},
          "execution_count": 14
        }
      ]
    },
    {
      "cell_type": "code",
      "source": [
        "class Counter:\n",
        "  def __init__(self):\n",
        "    self.__current = 0\n",
        "  def increment(self):\n",
        "    self.__current += 1\n",
        "  def value(self):\n",
        "    return self.__current\n",
        "  def reset(self):\n",
        "    self.__current = 0\n",
        "\n",
        "number = Counter()\n",
        "number.__current=1\n",
        "\n",
        "number.increment()\n",
        "number.increment()\n",
        "number.increment()\n",
        "\n",
        "print(number.value())"
      ],
      "metadata": {
        "colab": {
          "base_uri": "https://localhost:8080/"
        },
        "id": "u3Jm5Up8RpcT",
        "outputId": "798a5a7d-be9f-4415-faca-489814742dac"
      },
      "execution_count": null,
      "outputs": [
        {
          "output_type": "stream",
          "name": "stdout",
          "text": [
            "3\n"
          ]
        }
      ]
    },
    {
      "cell_type": "markdown",
      "source": [
        "Inheritance"
      ],
      "metadata": {
        "id": "oSAYN-s6U82g"
      }
    },
    {
      "cell_type": "code",
      "source": [
        "class Person:\n",
        "  def __init__(self,firstname,surname):\n",
        "    self.firstname = firstname\n",
        "    self.surname = surname\n",
        "\n",
        "  def fullname(self):\n",
        "    print(self.firstname, self.surname)\n",
        "\n",
        "person = Person(\"Joshua\",\"Atencia\")\n",
        "person.fullname()\n",
        "\n",
        "class Teacher(Person):\n",
        "  pass\n",
        "\n",
        "person2 = Teacher(\"Kuya\",\"josh\")\n",
        "person2.fullname()\n",
        "\n",
        "class Student(Person):\n",
        "  pass\n",
        "\n",
        "person3 = Student(\"Student\",\"Juswa\")\n",
        "person3.fullname()"
      ],
      "metadata": {
        "colab": {
          "base_uri": "https://localhost:8080/"
        },
        "id": "QNqjML-HU_b8",
        "outputId": "7c82c343-a638-4727-a838-391febc14e76"
      },
      "execution_count": null,
      "outputs": [
        {
          "output_type": "stream",
          "name": "stdout",
          "text": [
            "Joshua Atencia\n",
            "Kuya josh\n",
            "Student Juswa\n"
          ]
        }
      ]
    },
    {
      "cell_type": "markdown",
      "source": [
        "Polymorphism"
      ],
      "metadata": {
        "id": "iiDFu-HsXhEt"
      }
    },
    {
      "cell_type": "code",
      "source": [
        "class RegularPolygon:\n",
        "  def __init__(self,side):\n",
        "    self.side = side\n",
        "class Square(RegularPolygon):\n",
        "  def area(self):\n",
        "    return self.side*self.side\n",
        "class EquilateralTriangle(RegularPolygon):\n",
        "  def area(self):\n",
        "    return self.side*self.side*0.433\n",
        "\n",
        "obj1 = Square(4)\n",
        "print(obj1.area())\n",
        "\n",
        "obj2 = EquilateralTriangle(3)\n",
        "print(obj2.area())"
      ],
      "metadata": {
        "colab": {
          "base_uri": "https://localhost:8080/"
        },
        "id": "uPx2c4PSXi5F",
        "outputId": "8d7aad61-bf5b-4db4-e997-3d6cf4b36da5"
      },
      "execution_count": null,
      "outputs": [
        {
          "output_type": "stream",
          "name": "stdout",
          "text": [
            "16\n",
            "3.897\n"
          ]
        }
      ]
    },
    {
      "cell_type": "markdown",
      "source": [
        "Application 1"
      ],
      "metadata": {
        "id": "jvctACvSZCZl"
      }
    },
    {
      "cell_type": "markdown",
      "source": [
        "1.Create a Python program that displays the name of three students (Student1, Student2, Student3) and their term grades\n",
        "\n",
        "2.Create a class name Person and attributes - std1, std2, std3, pre,mid,fin\n",
        "\n",
        "3.Compute the average of each term grade using Grade() method\n",
        "\n",
        "4.Information about student's grades must be hidden from others."
      ],
      "metadata": {
        "id": "hkN4z4NgZHgX"
      }
    },
    {
      "cell_type": "code",
      "source": [
        "class Person:\n",
        "  def __init__(self,std1,std2,std3,pre,mid,fin):\n",
        "    self.__std1 = std1\n",
        "    self.__std2 = std2\n",
        "    self.__std3 = std3\n",
        "    self.__pre = pre\n",
        "    self.__mid = mid\n",
        "    self.__fin = fin\n",
        "\n",
        "  def Grade(self):\n",
        "    return (self.__pre + self.__mid+self.__fin)//3\n",
        "\n",
        "  def student1(self):\n",
        "    print(self.__std1)\n",
        "    print(f\"GRADES:\")\n",
        "    print(f\"Prelims:\",self.__pre)\n",
        "    print(f\"Midterms:\",self.__mid)\n",
        "    print(f\"Finals:\",self.__fin)\n",
        "    print(f\"Average:\",self.Grade())\n",
        "    if self.Grade()>75:\n",
        "      print(\"Remarks: Passed\")\n",
        "    elif self.Grade()<75:\n",
        "      print(\"Remarks: Failed\")\n",
        "\n",
        "  def student2(self):\n",
        "    print(\"\\n\"+self.__std2)\n",
        "    print(f\"GRADES:\")\n",
        "    print(f\"Prelims:\",self.__pre)\n",
        "    print(f\"Midterms:\",self.__mid)\n",
        "    print(f\"Finals:\",self.__fin)\n",
        "    print(f\"Average:\",self.Grade())\n",
        "    if self.Grade()>75:\n",
        "      print(\"Remarks: Passed\")\n",
        "    elif self.Grade()<75:\n",
        "      print(\"Remarks: Failed\")\n",
        " \n",
        "  def student3(self):\n",
        "    print(\"\\n\"+self.__std3)\n",
        "    print(f\"GRADES:\")\n",
        "    print(f\"Prelims:\",self.__pre)\n",
        "    print(f\"Midterms:\",self.__mid)\n",
        "    print(f\"Finals:\",self.__fin)\n",
        "    print(f\"Average:\",self.Grade())\n",
        "    if self.Grade()>75:\n",
        "      print(\"Remarks: Passed\")\n",
        "    elif self.Grade()<75:\n",
        "      print(\"Remarks: Failed\")\n",
        "\n",
        "student1= Person(\"Student1\",\"\",\"\",100,100,100)\n",
        "student1.student1()\n",
        "student2= Person(\"\",\"Student2\",\"\",90,90,90)\n",
        "student2.student2()\n",
        "student3= Person(\"\",\"\",\"Student3\",60,60,60)\n",
        "student3.student3()"
      ],
      "metadata": {
        "colab": {
          "base_uri": "https://localhost:8080/"
        },
        "id": "nUA7dxlNbWKa",
        "outputId": "00777927-6001-4758-be43-5ab954797721"
      },
      "execution_count": null,
      "outputs": [
        {
          "output_type": "stream",
          "name": "stdout",
          "text": [
            "Student1\n",
            "GRADES:\n",
            "Prelims: 100\n",
            "Midterms: 100\n",
            "Finals: 100\n",
            "Average: 100\n",
            "Remarks: Passed\n",
            "\n",
            "Student2\n",
            "GRADES:\n",
            "Prelims: 90\n",
            "Midterms: 90\n",
            "Finals: 90\n",
            "Average: 90\n",
            "Remarks: Passed\n",
            "\n",
            "Student3\n",
            "GRADES:\n",
            "Prelims: 60\n",
            "Midterms: 60\n",
            "Finals: 60\n",
            "Average: 60\n",
            "Remarks: Failed\n"
          ]
        }
      ]
    }
  ]
}