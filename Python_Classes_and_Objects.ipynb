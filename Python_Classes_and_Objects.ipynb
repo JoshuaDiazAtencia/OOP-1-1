{
  "nbformat": 4,
  "nbformat_minor": 0,
  "metadata": {
    "colab": {
      "name": "Python Classes and Objects.ipynb",
      "provenance": [],
      "collapsed_sections": [],
      "authorship_tag": "ABX9TyMuQKYHZfeDFUJqqjSGGX5q",
      "include_colab_link": true
    },
    "kernelspec": {
      "name": "python3",
      "display_name": "Python 3"
    },
    "language_info": {
      "name": "python"
    }
  },
  "cells": [
    {
      "cell_type": "markdown",
      "metadata": {
        "id": "view-in-github",
        "colab_type": "text"
      },
      "source": [
        "<a href=\"https://colab.research.google.com/github/JoshuaDiazAtencia/OOP-1-1/blob/main/Python_Classes_and_Objects.ipynb\" target=\"_parent\"><img src=\"https://colab.research.google.com/assets/colab-badge.svg\" alt=\"Open In Colab\"/></a>"
      ]
    },
    {
      "cell_type": "markdown",
      "source": [
        "Class"
      ],
      "metadata": {
        "id": "1T8VcXFyyx34"
      }
    },
    {
      "cell_type": "code",
      "execution_count": null,
      "metadata": {
        "id": "Afeo0SJmyrOQ"
      },
      "outputs": [],
      "source": [
        "class MyClass:#name of class\n",
        "  pass #create a class without variable and methods"
      ]
    },
    {
      "cell_type": "code",
      "source": [
        "class MyClass:\n",
        "  def __init__(self,name,age):\n",
        "    self.name = name      #create a class with attributes\n",
        "    self.age = age\n",
        "\n",
        "  def display(self):\n",
        "   print(self.name,self.age)\n",
        "\n",
        "person= MyClass(\"Joshua D. Atencia\",18)     #creating an object name\n",
        "\n",
        "person.display()\n",
        "print(person.name)\n",
        "print(person.age)"
      ],
      "metadata": {
        "colab": {
          "base_uri": "https://localhost:8080/"
        },
        "id": "viBTN_R-ztnd",
        "outputId": "fc41d714-2008-46b5-c3fd-b2318f507204"
      },
      "execution_count": null,
      "outputs": [
        {
          "output_type": "stream",
          "name": "stdout",
          "text": [
            "Joshua D. Atencia 18\n",
            "Joshua D. Atencia\n",
            "18\n"
          ]
        }
      ]
    },
    {
      "cell_type": "code",
      "source": [
        "#Application 1- Write a Python program that computes for an area of rectangle: Area=lw\n",
        "\n",
        "class Rectangle:\n",
        " def __init__(self,l,w):\n",
        "  self.l= l\n",
        "  self.w= w    #attribute names\n",
        "\n",
        " def Area(self):\n",
        "  print(self.l*self.w)\n",
        "\n",
        "rect= Rectangle(7,3)\n",
        "rect.Area()"
      ],
      "metadata": {
        "colab": {
          "base_uri": "https://localhost:8080/"
        },
        "id": "QfX17iBD3E9I",
        "outputId": "4e273030-e984-4e87-b50f-6a9e06063b83"
      },
      "execution_count": null,
      "outputs": [
        {
          "output_type": "stream",
          "name": "stdout",
          "text": [
            "21\n"
          ]
        }
      ]
    },
    {
      "cell_type": "markdown",
      "source": [
        "Application 2- Write python program that displays the fullname of a student, student number, age, course, and school. Create a class name OOP_1_1 and create info() method to display the information of a student with fullname, student_no,age,course,school as attributes"
      ],
      "metadata": {
        "id": "7yctiSh62oui"
      }
    },
    {
      "cell_type": "code",
      "source": [
        "class OOP_1_1:\n",
        "  def __init__(self, fullname, student_no, age, course, school):\n",
        "    self.fullname = fullname\n",
        "    self.student_no = student_no\n",
        "    self.age = age\n",
        "    self.course = course\n",
        "    self.school = school\n",
        "\n",
        "  def info(self):\n",
        "    print(self.fullname,self.student_no,self.age,self.course,self.school)\n",
        "    print(\"Hi! My name is \",self.fullname)\n",
        "    print(\"Student number:\",self.student_no)\n",
        "    print(self.age,\" years old\")\n",
        "    print(\"Taking \",self.course)\n",
        "    print(\"Currently studying at \",self.school)\n",
        "\n",
        "    student=OOP_1_1(\"Joshua D. Atencia\",202101624, 18,\"BSCpE\",\"CvSU\")\n",
        "student.info()"
      ],
      "metadata": {
        "id": "s33RqFnl0Xvm",
        "outputId": "161d5e75-2caa-4913-80a8-70eff0724ced",
        "colab": {
          "base_uri": "https://localhost:8080/"
        }
      },
      "execution_count": 25,
      "outputs": [
        {
          "output_type": "stream",
          "name": "stdout",
          "text": [
            "Joshua D. Atencia 202101624 18 BSCpE CvSU\n",
            "Joshua D. Atencia\n",
            "202101624\n",
            "18\n",
            "BSCpE\n",
            "CvSU\n"
          ]
        }
      ]
    },
    {
      "cell_type": "markdown",
      "source": [
        "Application 3- Define an Area() method of th class Cirlce that calculates the circle's area. Define a Perimeter() method of the class which allows you to calculate the perimeter of a circle"
      ],
      "metadata": {
        "id": "liFwjgXk6Z5e"
      }
    },
    {
      "cell_type": "code",
      "source": [
        "class Circle:\n",
        "  def __init__(self,pi,rad):\n",
        "    self.pi= pi\n",
        "    self.rad=rad\n",
        "\n",
        "  def Area(self):\n",
        "    print(self.pi*self.rad**2)\n",
        "  \n",
        "  def Perimeter(self):\n",
        "    print(2*self.pi*self.rad)\n",
        "\n",
        "Circ=Circle(3.14,10)\n",
        "Circ.Area()\n",
        "Circ.Perimeter()"
      ],
      "metadata": {
        "id": "bJEYaibE7mQD",
        "outputId": "30fcee13-0f43-4226-f465-878e58169e79",
        "colab": {
          "base_uri": "https://localhost:8080/"
        }
      },
      "execution_count": 42,
      "outputs": [
        {
          "output_type": "stream",
          "name": "stdout",
          "text": [
            "314.0\n",
            "62.800000000000004\n"
          ]
        }
      ]
    },
    {
      "cell_type": "markdown",
      "source": [
        ""
      ],
      "metadata": {
        "id": "7QjvO6Uy-EWL"
      }
    }
  ]
}