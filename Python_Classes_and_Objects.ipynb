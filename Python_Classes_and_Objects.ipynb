{
  "nbformat": 4,
  "nbformat_minor": 0,
  "metadata": {
    "colab": {
      "name": "Python Classes and Objects.ipynb",
      "provenance": [],
      "collapsed_sections": [],
      "authorship_tag": "ABX9TyNqdrYQO13G8YlD1E0WTsMe",
      "include_colab_link": true
    },
    "kernelspec": {
      "name": "python3",
      "display_name": "Python 3"
    },
    "language_info": {
      "name": "python"
    }
  },
  "cells": [
    {
      "cell_type": "markdown",
      "metadata": {
        "id": "view-in-github",
        "colab_type": "text"
      },
      "source": [
        "<a href=\"https://colab.research.google.com/github/JoshuaDiazAtencia/OOP-1-1/blob/main/Python_Classes_and_Objects.ipynb\" target=\"_parent\"><img src=\"https://colab.research.google.com/assets/colab-badge.svg\" alt=\"Open In Colab\"/></a>"
      ]
    },
    {
      "cell_type": "markdown",
      "source": [
        "Class"
      ],
      "metadata": {
        "id": "1T8VcXFyyx34"
      }
    },
    {
      "cell_type": "code",
      "execution_count": 14,
      "metadata": {
        "id": "Afeo0SJmyrOQ"
      },
      "outputs": [],
      "source": [
        "class MyClass:#name of class\n",
        "  pass #create a class without variable and methods"
      ]
    },
    {
      "cell_type": "code",
      "source": [
        "class MyClass:\n",
        "  def __init__(self,name,age):\n",
        "    self.name = name      #create a class with attributes\n",
        "    self.age = age\n",
        "\n",
        "  def display(self):\n",
        "   print(self.name,self.age)\n",
        "\n",
        "person= MyClass(\"Joshua D. Atencia\",18)     #creating an object name\n",
        "\n",
        "person.display()\n",
        "print(person.name)\n",
        "print(person.age)"
      ],
      "metadata": {
        "colab": {
          "base_uri": "https://localhost:8080/"
        },
        "id": "viBTN_R-ztnd",
        "outputId": "fc41d714-2008-46b5-c3fd-b2318f507204"
      },
      "execution_count": 49,
      "outputs": [
        {
          "output_type": "stream",
          "name": "stdout",
          "text": [
            "Joshua D. Atencia 18\n",
            "Joshua D. Atencia\n",
            "18\n"
          ]
        }
      ]
    },
    {
      "cell_type": "code",
      "source": [
        "#Application 1- Write a Python program that computes for an area of rectangle: Area=lw\n",
        "\n",
        "class Rectangle:\n",
        " def __init__(self,l,w):\n",
        "  self.l= l\n",
        "  self.w= w    #attribute names\n",
        "\n",
        " def Area(self):\n",
        "  print(self.l*self.w)\n",
        "\n",
        "rect= Rectangle(7,3)\n",
        "rect.Area()"
      ],
      "metadata": {
        "colab": {
          "base_uri": "https://localhost:8080/"
        },
        "id": "QfX17iBD3E9I",
        "outputId": "4e273030-e984-4e87-b50f-6a9e06063b83"
      },
      "execution_count": 34,
      "outputs": [
        {
          "output_type": "stream",
          "name": "stdout",
          "text": [
            "21\n"
          ]
        }
      ]
    }
  ]
}