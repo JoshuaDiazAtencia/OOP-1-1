{
  "nbformat": 4,
  "nbformat_minor": 0,
  "metadata": {
    "colab": {
      "name": "GUI.ipynb",
      "provenance": [],
      "authorship_tag": "ABX9TyMA9htk42Eu9G92BsPuCPUj",
      "include_colab_link": true
    },
    "kernelspec": {
      "name": "python3",
      "display_name": "Python 3"
    },
    "language_info": {
      "name": "python"
    }
  },
  "cells": [
    {
      "cell_type": "markdown",
      "metadata": {
        "id": "view-in-github",
        "colab_type": "text"
      },
      "source": [
        "<a href=\"https://colab.research.google.com/github/JoshuaDiazAtencia/OOP-1-1/blob/main/GUI.ipynb\" target=\"_parent\"><img src=\"https://colab.research.google.com/assets/colab-badge.svg\" alt=\"Open In Colab\"/></a>"
      ]
    },
    {
      "cell_type": "code",
      "execution_count": 5,
      "metadata": {
        "colab": {
          "base_uri": "https://localhost:8080/"
        },
        "id": "B0QDdz3vW8LQ",
        "outputId": "cc541027-e179-4579-c381-fadd43fbac23"
      },
      "outputs": [
        {
          "output_type": "stream",
          "name": "stdout",
          "text": [
            "My prelim grade is 90\n",
            "My midterm grade is 85\n",
            "My final grade is 100\n",
            "My semestral grade is 91.67\n",
            "My birthdate is 04-24-2003\n"
          ]
        }
      ],
      "source": [
        "#@title Students' Grade in OOP\n",
        "student_name= \"Joshua D. Atencia\" #@param {type:\"string\"}\n",
        "prelim= 90 #@param {type:'number'}\n",
        "midterm= 85 #@param {type:'number'}\n",
        "final= 100 #@param {type:'number'}\n",
        "semestral_grade= round((prelim+midterm+final)/3,2)\n",
        "\n",
        "print(\"My prelim grade is \"+str(prelim))\n",
        "print(\"My midterm grade is \"+str(midterm))\n",
        "print(\"My final grade is \"+str(final))\n",
        "print(\"My semestral grade is \"+str(semestral_grade))\n",
        "\n",
        "gender= \"Male\" #@param[\"Male\",\"Female\"]\n",
        "Birthdate= \"04-24-2003\" #@param {type: \"date\"}\n",
        "\n",
        "print(\"My birthdate is \"+str(Birthdate))"
      ]
    }
  ]
}